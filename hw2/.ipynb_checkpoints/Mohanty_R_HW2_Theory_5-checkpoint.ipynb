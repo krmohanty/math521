{
 "cells": [
  {
   "cell_type": "code",
   "execution_count": 2,
   "metadata": {},
   "outputs": [],
   "source": [
    "import numpy as np\n",
    "import matplotlib.pyplot as plt\n",
    "%matplotlib inline\n",
    "from  imageio import imread\n",
    "import pandas as pd"
   ]
  },
  {
   "cell_type": "code",
   "execution_count": 3,
   "metadata": {},
   "outputs": [],
   "source": [
    "A = np.array( [  [ -2, -1, 1],\n",
    "                 [ 0, -1, 0],\n",
    "                 [ -1, 1, 2],\n",
    "                 [ 1, -1, 1]] )"
   ]
  },
  {
   "cell_type": "code",
   "execution_count": 4,
   "metadata": {},
   "outputs": [
    {
     "data": {
      "text/plain": [
       "array([[-2, -1,  1],\n",
       "       [ 0, -1,  0],\n",
       "       [-1,  1,  2],\n",
       "       [ 1, -1,  1]])"
      ]
     },
     "execution_count": 4,
     "metadata": {},
     "output_type": "execute_result"
    }
   ],
   "source": [
    "A"
   ]
  },
  {
   "cell_type": "code",
   "execution_count": 5,
   "metadata": {},
   "outputs": [
    {
     "data": {
      "text/plain": [
       "(4, 3)"
      ]
     },
     "execution_count": 5,
     "metadata": {},
     "output_type": "execute_result"
    }
   ],
   "source": [
    "A.shape"
   ]
  },
  {
   "cell_type": "code",
   "execution_count": 6,
   "metadata": {},
   "outputs": [],
   "source": [
    "U,S,V=np.linalg.svd(A)"
   ]
  },
  {
   "cell_type": "code",
   "execution_count": 7,
   "metadata": {},
   "outputs": [
    {
     "name": "stdout",
     "output_type": "stream",
     "text": [
      "Rank 1 matrix\n",
      "\n",
      "              0    1             2\n",
      "0 -1.500000e+00 -0.0  1.500000e+00\n",
      "1  0.000000e+00  0.0 -0.000000e+00\n",
      "2 -1.500000e+00 -0.0  1.500000e+00\n",
      "3 -4.508238e-16 -0.0  4.508238e-16\n",
      "\n",
      "\n",
      "Rank 2 matrix\n",
      "\n",
      "              0    1             2\n",
      "0 -1.500000e+00 -1.0  1.500000e+00\n",
      "1  0.000000e+00 -1.0  0.000000e+00\n",
      "2 -1.500000e+00  1.0  1.500000e+00\n",
      "3 -4.508238e-16 -1.0  4.508238e-16\n",
      "\n",
      "\n",
      "Rank 3 matrix\n",
      "\n",
      "     0    1    2\n",
      "0 -2.0 -1.0  1.0\n",
      "1  0.0 -1.0  0.0\n",
      "2 -1.0  1.0  2.0\n",
      "3  1.0 -1.0  1.0\n",
      "\n",
      "\n"
     ]
    }
   ],
   "source": [
    "rank_k=[1,2,3]\n",
    "\n",
    "i=0\n",
    "for k in rank_k:\n",
    "    A_k = np.dot(U[:,:k],np.dot(np.diag(S[:k]),V[:k,:]))\n",
    "    print(\"Rank \"+str(k)+\" matrix\\n\")\n",
    "    print(pd.DataFrame(A_k))\n",
    "    print(\"\\n\")"
   ]
  },
  {
   "cell_type": "code",
   "execution_count": null,
   "metadata": {},
   "outputs": [],
   "source": []
  }
 ],
 "metadata": {
  "kernelspec": {
   "display_name": "Python 3",
   "language": "python",
   "name": "python3"
  },
  "language_info": {
   "codemirror_mode": {
    "name": "ipython",
    "version": 3
   },
   "file_extension": ".py",
   "mimetype": "text/x-python",
   "name": "python",
   "nbconvert_exporter": "python",
   "pygments_lexer": "ipython3",
   "version": "3.6.8"
  }
 },
 "nbformat": 4,
 "nbformat_minor": 2
}
