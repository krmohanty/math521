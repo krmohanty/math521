{
 "cells": [
  {
   "cell_type": "markdown",
   "metadata": {},
   "source": [
    "# HW2 Computing Problem 2"
   ]
  },
  {
   "cell_type": "code",
   "execution_count": 3,
   "metadata": {},
   "outputs": [],
   "source": [
    "import numpy as np\n",
    "import matplotlib.pyplot as plt\n",
    "%matplotlib inline\n",
    "from  imageio import imread\n",
    "import pandas as pd"
   ]
  },
  {
   "cell_type": "code",
   "execution_count": 4,
   "metadata": {},
   "outputs": [],
   "source": [
    "A = np.array( [[ 1, 1, 1, 1],\n",
    "                 [ 0, 1, 0, 1],\n",
    "                 [ 0, 1, 0, 1],\n",
    "                 [ 0, 1, 0, 1],\n",
    "                 [ 1, 1, 1, 1],] )"
   ]
  },
  {
   "cell_type": "code",
   "execution_count": 5,
   "metadata": {},
   "outputs": [
    {
     "data": {
      "text/plain": [
       "array([[1, 1, 1, 1],\n",
       "       [0, 1, 0, 1],\n",
       "       [0, 1, 0, 1],\n",
       "       [0, 1, 0, 1],\n",
       "       [1, 1, 1, 1]])"
      ]
     },
     "execution_count": 5,
     "metadata": {},
     "output_type": "execute_result"
    }
   ],
   "source": [
    "A"
   ]
  },
  {
   "cell_type": "code",
   "execution_count": 15,
   "metadata": {},
   "outputs": [
    {
     "data": {
      "text/plain": [
       "<matplotlib.image.AxesImage at 0x117783f98>"
      ]
     },
     "execution_count": 15,
     "metadata": {},
     "output_type": "execute_result"
    },
    {
     "data": {
      "image/png": "[encoded data removed]",
      "text/plain": [
       "<Figure size 432x288 with 1 Axes>"
      ]
     },
     "metadata": {
      "needs_background": "light"
     },
     "output_type": "display_data"
    }
   ],
   "source": [
    "fig, ax = plt.subplots(1, 1)\n",
    "ax.set_title('Given Pattern A')\n",
    "ax.set_xlabel('column pixels')\n",
    "ax.set_ylabel('row pixels')\n",
    "ax.imshow(1-A,cmap='gray')"
   ]
  },
  {
   "cell_type": "code",
   "execution_count": 7,
   "metadata": {},
   "outputs": [
    {
     "data": {
      "text/plain": [
       "(5, 4)"
      ]
     },
     "execution_count": 7,
     "metadata": {},
     "output_type": "execute_result"
    }
   ],
   "source": [
    "A.shape"
   ]
  },
  {
   "cell_type": "code",
   "execution_count": 8,
   "metadata": {},
   "outputs": [],
   "source": [
    "U,S,V=np.linalg.svd(A)"
   ]
  },
  {
   "cell_type": "code",
   "execution_count": 14,
   "metadata": {},
   "outputs": [
    {
     "data": {
      "image/png": "[encoded data removed]",
      "text/plain": [
       "<Figure size 720x720 with 4 Axes>"
      ]
     },
     "metadata": {
      "needs_background": "light"
     },
     "output_type": "display_data"
    }
   ],
   "source": [
    "rank_k=[1,2,3,4]\n",
    "\n",
    "position=[(0,0),(0,1),(1,0),(1,1)]\n",
    "\n",
    "fig, ax = plt.subplots(2, 2,figsize=(10,10))\n",
    "fig.suptitle('Reconstruction of matrix A', fontsize=20)\n",
    "i=0\n",
    "for k in rank_k:\n",
    "    A_k = np.dot(U[:,:k],np.dot(np.diag(S[:k]),V[:k,:]))\n",
    "    ax[position[i][0],position[i][1]].set_title('Rank '+str(k))\n",
    "    ax[position[i][0],position[i][1]].set_xlabel('column pixels')\n",
    "    ax[position[i][0],position[i][1]].set_ylabel('row pixels')\n",
    "    ax[position[i][0],position[i][1]].imshow(1-A_k,cmap='gray')\n",
    "    i+=1"
   ]
  },
  {
   "cell_type": "code",
   "execution_count": 10,
   "metadata": {},
   "outputs": [
    {
     "data": {
      "text/html": [
       "<div>\n",
       "<style scoped>\n",
       "    .dataframe tbody tr th:only-of-type {\n",
       "        vertical-align: middle;\n",
       "    }\n",
       "\n",
       "    .dataframe tbody tr th {\n",
       "        vertical-align: top;\n",
       "    }\n",
       "\n",
       "    .dataframe thead th {\n",
       "        text-align: right;\n",
       "    }\n",
       "</style>\n",
       "<table border=\"1\" class=\"dataframe\">\n",
       "  <thead>\n",
       "    <tr style=\"text-align: right;\">\n",
       "      <th></th>\n",
       "      <th>0</th>\n",
       "      <th>1</th>\n",
       "      <th>2</th>\n",
       "      <th>3</th>\n",
       "    </tr>\n",
       "  </thead>\n",
       "  <tbody>\n",
       "    <tr>\n",
       "      <th>0</th>\n",
       "      <td>1</td>\n",
       "      <td>1</td>\n",
       "      <td>1</td>\n",
       "      <td>1</td>\n",
       "    </tr>\n",
       "    <tr>\n",
       "      <th>1</th>\n",
       "      <td>0</td>\n",
       "      <td>1</td>\n",
       "      <td>0</td>\n",
       "      <td>1</td>\n",
       "    </tr>\n",
       "    <tr>\n",
       "      <th>2</th>\n",
       "      <td>0</td>\n",
       "      <td>1</td>\n",
       "      <td>0</td>\n",
       "      <td>1</td>\n",
       "    </tr>\n",
       "    <tr>\n",
       "      <th>3</th>\n",
       "      <td>0</td>\n",
       "      <td>1</td>\n",
       "      <td>0</td>\n",
       "      <td>1</td>\n",
       "    </tr>\n",
       "    <tr>\n",
       "      <th>4</th>\n",
       "      <td>1</td>\n",
       "      <td>1</td>\n",
       "      <td>1</td>\n",
       "      <td>1</td>\n",
       "    </tr>\n",
       "  </tbody>\n",
       "</table>\n",
       "</div>"
      ],
      "text/plain": [
       "   0  1  2  3\n",
       "0  1  1  1  1\n",
       "1  0  1  0  1\n",
       "2  0  1  0  1\n",
       "3  0  1  0  1\n",
       "4  1  1  1  1"
      ]
     },
     "execution_count": 10,
     "metadata": {},
     "output_type": "execute_result"
    }
   ],
   "source": [
    "pd.DataFrame(A)"
   ]
  },
  {
   "cell_type": "code",
   "execution_count": 11,
   "metadata": {},
   "outputs": [
    {
     "name": "stdout",
     "output_type": "stream",
     "text": [
      "Original matrix A\n",
      "\n",
      "   0  1  2  3\n",
      "0  1  1  1  1\n",
      "1  0  1  0  1\n",
      "2  0  1  0  1\n",
      "3  0  1  0  1\n",
      "4  1  1  1  1\n"
     ]
    }
   ],
   "source": [
    "print(\"Original matrix A\\n\")\n",
    "print(pd.DataFrame(A))"
   ]
  },
  {
   "cell_type": "code",
   "execution_count": 12,
   "metadata": {},
   "outputs": [
    {
     "name": "stdout",
     "output_type": "stream",
     "text": [
      "Rank 1 matrix\n",
      "\n",
      "     0    1    2    3\n",
      "0  0.6  1.2  0.6  1.2\n",
      "1  0.4  0.8  0.4  0.8\n",
      "2  0.4  0.8  0.4  0.8\n",
      "3  0.4  0.8  0.4  0.8\n",
      "4  0.6  1.2  0.6  1.2\n",
      "\n",
      "\n",
      "Rank 2 matrix\n",
      "\n",
      "     0    1    2    3\n",
      "0  1.0  1.0  1.0  1.0\n",
      "1  0.0  1.0  0.0  1.0\n",
      "2  0.0  1.0  0.0  1.0\n",
      "3  0.0  1.0  0.0  1.0\n",
      "4  1.0  1.0  1.0  1.0\n",
      "\n",
      "\n",
      "Rank 3 matrix\n",
      "\n",
      "     0    1    2    3\n",
      "0  1.0  1.0  1.0  1.0\n",
      "1  0.0  1.0 -0.0  1.0\n",
      "2  0.0  1.0  0.0  1.0\n",
      "3  0.0  1.0  0.0  1.0\n",
      "4  1.0  1.0  1.0  1.0\n",
      "\n",
      "\n",
      "Rank 4 matrix\n",
      "\n",
      "     0    1    2    3\n",
      "0  1.0  1.0  1.0  1.0\n",
      "1  0.0  1.0 -0.0  1.0\n",
      "2  0.0  1.0  0.0  1.0\n",
      "3  0.0  1.0  0.0  1.0\n",
      "4  1.0  1.0  1.0  1.0\n",
      "\n",
      "\n"
     ]
    }
   ],
   "source": [
    "i=0\n",
    "for k in rank_k:\n",
    "    A_k = np.dot(U[:,:k],np.dot(np.diag(S[:k]),V[:k,:]))\n",
    "    A_k = np.round(A_k,2)\n",
    "    print(\"Rank \"+str(k)+\" matrix\\n\")\n",
    "    print(pd.DataFrame(A_k))\n",
    "    print(\"\\n\")"
   ]
  },
  {
   "cell_type": "code",
   "execution_count": null,
   "metadata": {},
   "outputs": [],
   "source": []
  }
 ],
 "metadata": {
  "kernelspec": {
   "display_name": "Python 3",
   "language": "python",
   "name": "python3"
  },
  "language_info": {
   "codemirror_mode": {
    "name": "ipython",
    "version": 3
   },
   "file_extension": ".py",
   "mimetype": "text/x-python",
   "name": "python",
   "nbconvert_exporter": "python",
   "pygments_lexer": "ipython3",
   "version": "3.6.8"
  }
 },
 "nbformat": 4,
 "nbformat_minor": 2
}
