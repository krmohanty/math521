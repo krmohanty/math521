{
 "cells": [
  {
   "cell_type": "code",
   "execution_count": 28,
   "metadata": {},
   "outputs": [],
   "source": [
    "import scipy as spy\n",
    "import numpy as np\n",
    "import matplotlib.pyplot as plt\n",
    "%matplotlib inline\n",
    "from scipy.io import loadmat\n",
    "import math\n",
    "import pandas as pd\n",
    "from  imageio import imread"
   ]
  },
  {
   "cell_type": "code",
   "execution_count": 29,
   "metadata": {},
   "outputs": [],
   "source": [
    "import os"
   ]
  },
  {
   "cell_type": "code",
   "execution_count": 30,
   "metadata": {},
   "outputs": [],
   "source": [
    "import cv2"
   ]
  },
  {
   "cell_type": "code",
   "execution_count": 31,
   "metadata": {},
   "outputs": [],
   "source": [
    "Dog96 = imread('./TIFFtraining/Dog96.tif')"
   ]
  },
  {
   "cell_type": "code",
   "execution_count": 32,
   "metadata": {},
   "outputs": [
    {
     "data": {
      "text/plain": [
       "(64, 64, 2)"
      ]
     },
     "execution_count": 32,
     "metadata": {},
     "output_type": "execute_result"
    }
   ],
   "source": [
    "Dog96.shape"
   ]
  },
  {
   "cell_type": "code",
   "execution_count": 33,
   "metadata": {},
   "outputs": [
    {
     "data": {
      "text/plain": [
       "<matplotlib.image.AxesImage at 0x10ac0ed50>"
      ]
     },
     "execution_count": 33,
     "metadata": {},
     "output_type": "execute_result"
    },
    {
     "data": {
      "image/png": "[encoded data removed]",
      "text/plain": [
       "<Figure size 432x288 with 1 Axes>"
      ]
     },
     "metadata": {
      "needs_background": "light"
     },
     "output_type": "display_data"
    }
   ],
   "source": [
    "plt.imshow(Dog96[:,:,0],cmap='gray')"
   ]
  },
  {
   "cell_type": "code",
   "execution_count": 34,
   "metadata": {},
   "outputs": [],
   "source": [
    "Dog96=np.array(Dog96[:,:,0])"
   ]
  },
  {
   "cell_type": "code",
   "execution_count": 35,
   "metadata": {},
   "outputs": [],
   "source": [
    "dim = (64, 64)\n",
    "\n",
    "#convert 28x28 grayscale to 48x48 rgb channels\n",
    "def to_rgb(img):\n",
    "    img = cv2.resize(img, dim, interpolation = cv2.INTER_AREA) \n",
    "    img_rgb = np.asarray(np.dstack((img, img, img)), dtype=np.uint8)\n",
    "    return img_rgb"
   ]
  },
  {
   "cell_type": "code",
   "execution_count": 36,
   "metadata": {},
   "outputs": [
    {
     "data": {
      "text/plain": [
       "<matplotlib.image.AxesImage at 0x126281a10>"
      ]
     },
     "execution_count": 36,
     "metadata": {},
     "output_type": "execute_result"
    },
    {
     "data": {
      "image/png": "[encoded data removed]",
      "text/plain": [
       "<Figure size 432x288 with 1 Axes>"
      ]
     },
     "metadata": {
      "needs_background": "light"
     },
     "output_type": "display_data"
    }
   ],
   "source": [
    "plt.imshow(to_rgb(Dog96))"
   ]
  },
  {
   "cell_type": "code",
   "execution_count": 37,
   "metadata": {},
   "outputs": [],
   "source": [
    "X_list=[]\n",
    "y_list=[]\n",
    "for x in os.listdir(\"./TIFFtraining/\"):\n",
    "    if \"Dog96\" in x:\n",
    "        continue\n",
    "    else:\n",
    "        vec=imread('./TIFFtraining/'+x)\n",
    "        vec=np.array(vec)\n",
    "        vec=to_rgb(vec)\n",
    "        X_list.append(vec)\n",
    "        if \"Cat\" in x:\n",
    "            y_list.append(1)\n",
    "        else:\n",
    "            y_list.append(0)"
   ]
  },
  {
   "cell_type": "code",
   "execution_count": 38,
   "metadata": {},
   "outputs": [
    {
     "data": {
      "text/plain": [
       "159"
      ]
     },
     "execution_count": 38,
     "metadata": {},
     "output_type": "execute_result"
    }
   ],
   "source": [
    "len(X_list)"
   ]
  },
  {
   "cell_type": "code",
   "execution_count": 39,
   "metadata": {},
   "outputs": [
    {
     "data": {
      "text/plain": [
       "159"
      ]
     },
     "execution_count": 39,
     "metadata": {},
     "output_type": "execute_result"
    }
   ],
   "source": [
    "len(y_list)"
   ]
  },
  {
   "cell_type": "code",
   "execution_count": 40,
   "metadata": {},
   "outputs": [],
   "source": [
    "X_list.append(to_rgb(Dog96))"
   ]
  },
  {
   "cell_type": "code",
   "execution_count": 41,
   "metadata": {},
   "outputs": [],
   "source": [
    "y_list.append(0)"
   ]
  },
  {
   "cell_type": "code",
   "execution_count": 42,
   "metadata": {},
   "outputs": [],
   "source": [
    "X=np.array(X_list)"
   ]
  },
  {
   "cell_type": "code",
   "execution_count": 43,
   "metadata": {},
   "outputs": [],
   "source": [
    "#X=X.T"
   ]
  },
  {
   "cell_type": "code",
   "execution_count": 44,
   "metadata": {},
   "outputs": [],
   "source": [
    "y=np.array(y_list)"
   ]
  },
  {
   "cell_type": "code",
   "execution_count": 45,
   "metadata": {},
   "outputs": [],
   "source": [
    "y=y.reshape(160,1)"
   ]
  },
  {
   "cell_type": "code",
   "execution_count": 46,
   "metadata": {},
   "outputs": [
    {
     "data": {
      "text/plain": [
       "(160, 64, 64, 3)"
      ]
     },
     "execution_count": 46,
     "metadata": {},
     "output_type": "execute_result"
    }
   ],
   "source": [
    "X.shape"
   ]
  },
  {
   "cell_type": "code",
   "execution_count": 47,
   "metadata": {},
   "outputs": [
    {
     "data": {
      "text/plain": [
       "(160, 1)"
      ]
     },
     "execution_count": 47,
     "metadata": {},
     "output_type": "execute_result"
    }
   ],
   "source": [
    "y.shape"
   ]
  },
  {
   "cell_type": "code",
   "execution_count": 48,
   "metadata": {},
   "outputs": [
    {
     "data": {
      "text/plain": [
       "<matplotlib.image.AxesImage at 0x126369710>"
      ]
     },
     "execution_count": 48,
     "metadata": {},
     "output_type": "execute_result"
    },
    {
     "data": {
      "image/png": "[encoded data removed]",
      "text/plain": [
       "<Figure size 432x288 with 1 Axes>"
      ]
     },
     "metadata": {
      "needs_background": "light"
     },
     "output_type": "display_data"
    }
   ],
   "source": [
    "plt.imshow(X[155])"
   ]
  },
  {
   "cell_type": "code",
   "execution_count": 49,
   "metadata": {},
   "outputs": [
    {
     "data": {
      "text/plain": [
       "array([0])"
      ]
     },
     "execution_count": 49,
     "metadata": {},
     "output_type": "execute_result"
    }
   ],
   "source": [
    "y[155]"
   ]
  },
  {
   "cell_type": "code",
   "execution_count": 53,
   "metadata": {},
   "outputs": [],
   "source": [
    "import tensorflow as tf"
   ]
  },
  {
   "cell_type": "code",
   "execution_count": 54,
   "metadata": {},
   "outputs": [
    {
     "data": {
      "text/plain": [
       "'2.1.0'"
      ]
     },
     "execution_count": 54,
     "metadata": {},
     "output_type": "execute_result"
    }
   ],
   "source": [
    "tf.__version__"
   ]
  },
  {
   "cell_type": "code",
   "execution_count": 60,
   "metadata": {},
   "outputs": [],
   "source": [
    "from keras.models import Sequential\n",
    "from keras.layers import Conv2D\n",
    "from keras.layers import MaxPooling2D\n",
    "from keras.layers import Dense\n",
    "from keras.layers import Flatten\n",
    "from keras.layers import Dropout\n",
    "from keras.layers import BatchNormalization\n",
    "from keras.optimizers import SGD\n",
    "from keras.regularizers import l2"
   ]
  },
  {
   "cell_type": "code",
   "execution_count": 79,
   "metadata": {},
   "outputs": [],
   "source": [
    "model = Sequential()\n",
    "model.add(Conv2D(32, (3, 3), activation='relu', kernel_initializer='he_uniform', padding='same', input_shape=(64, 64, 3)))\n",
    "model.add(Conv2D(32, (3, 3), activation='relu', kernel_initializer='he_uniform', padding='same'))\n",
    "model.add(MaxPooling2D((2, 2)))\n",
    "model.add(Dropout(0.2))\n",
    "model.add(Conv2D(64, (3, 3), activation='relu', kernel_initializer='he_uniform', padding='same'))\n",
    "model.add(Conv2D(64, (3, 3), activation='relu', kernel_initializer='he_uniform', padding='same'))\n",
    "model.add(MaxPooling2D((2, 2)))\n",
    "model.add(Dropout(0.2))\n",
    "model.add(Conv2D(128, (3, 3), activation='relu', kernel_initializer='he_uniform', padding='same'))\n",
    "model.add(Conv2D(128, (3, 3), activation='relu', kernel_initializer='he_uniform', padding='same'))\n",
    "model.add(MaxPooling2D((2, 2)))\n",
    "model.add(Dropout(0.2))\n",
    "model.add(Flatten())\n",
    "model.add(Dense(128, activation='relu', kernel_initializer='he_uniform'))\n",
    "model.add(Dropout(0.2))\n",
    "model.add(Dense(1, activation='sigmoid'))\n",
    "# compile model\n",
    "opt = SGD(lr=0.001, momentum=0.9)\n",
    "model.compile(optimizer=opt, loss='binary_crossentropy', metrics=['accuracy'])"
   ]
  },
  {
   "cell_type": "code",
   "execution_count": 72,
   "metadata": {},
   "outputs": [],
   "source": [
    "model = Sequential()\n",
    "model.add(Conv2D(32, (3, 3), activation='relu', kernel_initializer='he_uniform', padding='same', input_shape=(64, 64, 3)))\n",
    "model.add(Conv2D(32, (3, 3), activation='relu', kernel_initializer='he_uniform', padding='same'))\n",
    "model.add(MaxPooling2D((2, 2)))\n",
    "model.add(Dropout(0.2))\n",
    "model.add(Flatten())\n",
    "model.add(Dense(64, activation='relu', kernel_initializer='he_uniform'))\n",
    "model.add(Dropout(0.2))\n",
    "model.add(Dense(1, activation='sigmoid'))\n",
    "# compile model\n",
    "opt = SGD(lr=0.001, momentum=0.9)\n",
    "model.compile(optimizer=opt, loss='binary_crossentropy', metrics=['accuracy'])"
   ]
  },
  {
   "cell_type": "code",
   "execution_count": 46,
   "metadata": {},
   "outputs": [
    {
     "name": "stdout",
     "output_type": "stream",
     "text": [
      "WARNING:tensorflow:From /Users/mohantyk/anaconda3/lib/python3.6/site-packages/tensorflow/python/ops/resource_variable_ops.py:435: colocate_with (from tensorflow.python.framework.ops) is deprecated and will be removed in a future version.\n",
      "Instructions for updating:\n",
      "Colocations handled automatically by placer.\n",
      "Downloading data from https://github.com/fchollet/deep-learning-models/releases/download/v0.1/vgg16_weights_tf_dim_ordering_tf_kernels_notop.h5\n",
      "58892288/58889256 [==============================] - 4s 0us/step\n"
     ]
    }
   ],
   "source": [
    "from keras import layers, models, optimizers\n",
    "from keras.applications import VGG16\n",
    "\n",
    "\n",
    "conv_base = VGG16(weights='imagenet',\n",
    "                  include_top=False,\n",
    "                  input_shape=(64, 64,3))\n",
    "\n",
    "model = models.Sequential()\n",
    "model.add(conv_base)\n",
    "model.add(layers.Flatten())\n",
    "model.add(layers.Dropout(0.5))\n",
    "model.add(layers.Dense(256, activation='relu'))\n",
    "model.add(layers.Dense(1, activation='sigmoid'))\n",
    "\n",
    "conv_base.trainable = False\n",
    "\n",
    "model.compile(loss='binary_crossentropy',\n",
    "              optimizer=optimizers.RMSprop(lr=2e-5),\n",
    "              metrics=['acc'])"
   ]
  },
  {
   "cell_type": "code",
   "execution_count": 80,
   "metadata": {},
   "outputs": [
    {
     "name": "stdout",
     "output_type": "stream",
     "text": [
      "CPU times: user 45min 49s, sys: 8min 8s, total: 53min 58s\n",
      "Wall time: 10min 1s\n"
     ]
    }
   ],
   "source": [
    "%time history = model.fit(X, y, epochs=500, batch_size=128, validation_split=0.2, verbose=0)"
   ]
  },
  {
   "cell_type": "code",
   "execution_count": 81,
   "metadata": {},
   "outputs": [],
   "source": [
    "def plot_accuracy_and_loss(history):\n",
    "    acc = history.history['accuracy']\n",
    "    val_acc = history.history['val_accuracy']\n",
    "    loss = history.history['loss']\n",
    "    val_loss = history.history['val_loss']\n",
    "\n",
    "    epochs = range(1, len(acc) + 1)\n",
    "\n",
    "    plt.plot(epochs, acc, 'bo', label='Training acc')\n",
    "    plt.plot(epochs, val_acc, 'b', label='Validation acc')\n",
    "    plt.title('Training and validation accuracy')\n",
    "    plt.legend()\n",
    "    plt.show()\n",
    "\n",
    "    plt.plot(epochs, loss, 'bo', label='Training loss')\n",
    "    plt.plot(epochs, val_loss, 'b', label='Validation loss')\n",
    "    plt.title('Training and validation loss')\n",
    "    plt.legend()\n",
    "    plt.show()"
   ]
  },
  {
   "cell_type": "code",
   "execution_count": 82,
   "metadata": {},
   "outputs": [
    {
     "data": {
      "image/png": "[encoded data removed]",
      "text/plain": [
       "<Figure size 432x288 with 1 Axes>"
      ]
     },
     "metadata": {
      "needs_background": "light"
     },
     "output_type": "display_data"
    },
    {
     "data": {
      "image/png": "[encoded data removed]",
      "text/plain": [
       "<Figure size 432x288 with 1 Axes>"
      ]
     },
     "metadata": {
      "needs_background": "light"
     },
     "output_type": "display_data"
    }
   ],
   "source": [
    "plot_accuracy_and_loss(history)"
   ]
  },
  {
   "cell_type": "code",
   "execution_count": 76,
   "metadata": {},
   "outputs": [
    {
     "data": {
      "text/plain": [
       "{'val_loss': [14298.142578125,\n",
       "  18110.744140625,\n",
       "  6010141.0,\n",
       "  871699.625,\n",
       "  36.49101257324219,\n",
       "  129681358848.0,\n",
       "  6189446231752704.0,\n",
       "  380528129736704.0,\n",
       "  0.6936444044113159,\n",
       "  0.6938000917434692,\n",
       "  0.6939488649368286,\n",
       "  0.6940915584564209,\n",
       "  0.6942287683486938,\n",
       "  0.6943609714508057,\n",
       "  0.6944886445999146,\n",
       "  0.6946121454238892,\n",
       "  0.6947320103645325,\n",
       "  0.6948482990264893,\n",
       "  0.6949616074562073,\n",
       "  0.6950721144676208,\n",
       "  0.6951800584793091,\n",
       "  0.6952857375144958,\n",
       "  0.6953892707824707,\n",
       "  0.695490837097168,\n",
       "  0.6955907344818115,\n",
       "  0.6956889629364014,\n",
       "  0.6957857608795166,\n",
       "  0.6958812475204468,\n",
       "  0.6959754824638367,\n",
       "  0.696068525314331,\n",
       "  0.6961606740951538,\n",
       "  0.6962518095970154,\n",
       "  0.6963420510292053,\n",
       "  0.6964316368103027,\n",
       "  0.6965204477310181,\n",
       "  0.6966085433959961,\n",
       "  0.6966959238052368,\n",
       "  0.6967827677726746,\n",
       "  0.6968691349029541,\n",
       "  0.6969549655914307,\n",
       "  0.6970402002334595,\n",
       "  0.6971251964569092,\n",
       "  0.6972095966339111,\n",
       "  0.6972936987876892,\n",
       "  0.6973774433135986,\n",
       "  0.6974607706069946,\n",
       "  0.6975438594818115,\n",
       "  0.6976264715194702,\n",
       "  0.6977088451385498,\n",
       "  0.6977910399436951,\n",
       "  0.6978728771209717,\n",
       "  0.697954535484314,\n",
       "  0.6980358362197876,\n",
       "  0.6981168985366821,\n",
       "  0.6981977820396423,\n",
       "  0.6982784271240234,\n",
       "  0.6983587741851807,\n",
       "  0.6984389424324036,\n",
       "  0.6985188722610474,\n",
       "  0.6985987424850464,\n",
       "  0.6986782550811768,\n",
       "  0.6987576484680176,\n",
       "  0.6988368034362793,\n",
       "  0.6989158391952515,\n",
       "  0.6989946365356445,\n",
       "  0.6990731954574585,\n",
       "  0.6991516351699829,\n",
       "  0.699229896068573,\n",
       "  0.699307918548584,\n",
       "  0.6993858814239502,\n",
       "  0.6994634866714478,\n",
       "  0.6995410919189453,\n",
       "  0.6996185779571533,\n",
       "  0.6996957063674927,\n",
       "  0.6997727751731873,\n",
       "  0.6998496055603027,\n",
       "  0.6999263167381287,\n",
       "  0.7000027894973755,\n",
       "  0.7000792026519775,\n",
       "  0.70015549659729,\n",
       "  0.7002314925193787,\n",
       "  0.7003074288368225,\n",
       "  0.7003830671310425,\n",
       "  0.7004586458206177,\n",
       "  0.7005340456962585,\n",
       "  0.7006093263626099,\n",
       "  0.7006843686103821,\n",
       "  0.7007593512535095,\n",
       "  0.7008341550827026,\n",
       "  0.7009086608886719,\n",
       "  0.7009832262992859,\n",
       "  0.701057493686676,\n",
       "  0.7011315822601318,\n",
       "  0.7012056112289429,\n",
       "  0.7012794613838196,\n",
       "  0.701353132724762,\n",
       "  0.70142662525177,\n",
       "  0.7015000581741333,\n",
       "  0.7015731930732727,\n",
       "  0.7016462683677673],\n",
       " 'val_accuracy': [0.3125,\n",
       "  0.6875,\n",
       "  0.3125,\n",
       "  0.6875,\n",
       "  0.34375,\n",
       "  0.6875,\n",
       "  0.3125,\n",
       "  0.6875,\n",
       "  0.3125,\n",
       "  0.3125,\n",
       "  0.3125,\n",
       "  0.3125,\n",
       "  0.3125,\n",
       "  0.3125,\n",
       "  0.3125,\n",
       "  0.3125,\n",
       "  0.3125,\n",
       "  0.3125,\n",
       "  0.3125,\n",
       "  0.3125,\n",
       "  0.3125,\n",
       "  0.3125,\n",
       "  0.3125,\n",
       "  0.3125,\n",
       "  0.3125,\n",
       "  0.3125,\n",
       "  0.3125,\n",
       "  0.3125,\n",
       "  0.3125,\n",
       "  0.3125,\n",
       "  0.3125,\n",
       "  0.3125,\n",
       "  0.3125,\n",
       "  0.3125,\n",
       "  0.3125,\n",
       "  0.3125,\n",
       "  0.3125,\n",
       "  0.3125,\n",
       "  0.3125,\n",
       "  0.3125,\n",
       "  0.3125,\n",
       "  0.3125,\n",
       "  0.3125,\n",
       "  0.3125,\n",
       "  0.3125,\n",
       "  0.3125,\n",
       "  0.3125,\n",
       "  0.3125,\n",
       "  0.3125,\n",
       "  0.3125,\n",
       "  0.3125,\n",
       "  0.3125,\n",
       "  0.3125,\n",
       "  0.3125,\n",
       "  0.3125,\n",
       "  0.3125,\n",
       "  0.3125,\n",
       "  0.3125,\n",
       "  0.3125,\n",
       "  0.3125,\n",
       "  0.3125,\n",
       "  0.3125,\n",
       "  0.3125,\n",
       "  0.3125,\n",
       "  0.3125,\n",
       "  0.3125,\n",
       "  0.3125,\n",
       "  0.3125,\n",
       "  0.3125,\n",
       "  0.3125,\n",
       "  0.3125,\n",
       "  0.3125,\n",
       "  0.3125,\n",
       "  0.3125,\n",
       "  0.3125,\n",
       "  0.3125,\n",
       "  0.3125,\n",
       "  0.3125,\n",
       "  0.3125,\n",
       "  0.3125,\n",
       "  0.3125,\n",
       "  0.3125,\n",
       "  0.3125,\n",
       "  0.3125,\n",
       "  0.3125,\n",
       "  0.3125,\n",
       "  0.3125,\n",
       "  0.3125,\n",
       "  0.3125,\n",
       "  0.3125,\n",
       "  0.3125,\n",
       "  0.3125,\n",
       "  0.3125,\n",
       "  0.3125,\n",
       "  0.3125,\n",
       "  0.3125,\n",
       "  0.3125,\n",
       "  0.3125,\n",
       "  0.3125,\n",
       "  0.3125],\n",
       " 'loss': [85.32272338867188,\n",
       "  7739.99609375,\n",
       "  33744.19921875,\n",
       "  3268500.25,\n",
       "  1164695.75,\n",
       "  234.89744567871094,\n",
       "  216391286784.0,\n",
       "  3466360730419200.0,\n",
       "  728013800996864.0,\n",
       "  0.6930238604545593,\n",
       "  0.6929858922958374,\n",
       "  0.6929495930671692,\n",
       "  0.6929150819778442,\n",
       "  0.6928820610046387,\n",
       "  0.6928501129150391,\n",
       "  0.6928197145462036,\n",
       "  0.6927903294563293,\n",
       "  0.692762017250061,\n",
       "  0.6927345991134644,\n",
       "  0.6927080154418945,\n",
       "  0.692682147026062,\n",
       "  0.6926571130752563,\n",
       "  0.6926326155662537,\n",
       "  0.6926087141036987,\n",
       "  0.6925851702690125,\n",
       "  0.6925624012947083,\n",
       "  0.6925399303436279,\n",
       "  0.6925179362297058,\n",
       "  0.6924963593482971,\n",
       "  0.6924748420715332,\n",
       "  0.6924539804458618,\n",
       "  0.6924333572387695,\n",
       "  0.6924128532409668,\n",
       "  0.6923926472663879,\n",
       "  0.6923729777336121,\n",
       "  0.6923532485961914,\n",
       "  0.6923338174819946,\n",
       "  0.6923145055770874,\n",
       "  0.6922956109046936,\n",
       "  0.6922767758369446,\n",
       "  0.6922580003738403,\n",
       "  0.69223952293396,\n",
       "  0.6922211647033691,\n",
       "  0.6922028064727783,\n",
       "  0.6921846866607666,\n",
       "  0.692166805267334,\n",
       "  0.6921490430831909,\n",
       "  0.6921314597129822,\n",
       "  0.6921137571334839,\n",
       "  0.692096471786499,\n",
       "  0.6920790672302246,\n",
       "  0.6920617818832397,\n",
       "  0.6920447945594788,\n",
       "  0.692027747631073,\n",
       "  0.6920108795166016,\n",
       "  0.6919941306114197,\n",
       "  0.6919773817062378,\n",
       "  0.6919606924057007,\n",
       "  0.6919442415237427,\n",
       "  0.6919276714324951,\n",
       "  0.6919113993644714,\n",
       "  0.6918953657150269,\n",
       "  0.691879153251648,\n",
       "  0.6918630599975586,\n",
       "  0.6918470859527588,\n",
       "  0.6918313503265381,\n",
       "  0.6918154954910278,\n",
       "  0.6917998194694519,\n",
       "  0.6917842626571655,\n",
       "  0.6917685866355896,\n",
       "  0.6917532682418823,\n",
       "  0.6917378902435303,\n",
       "  0.6917226314544678,\n",
       "  0.6917074918746948,\n",
       "  0.6916923522949219,\n",
       "  0.6916772127151489,\n",
       "  0.6916623115539551,\n",
       "  0.6916473507881165,\n",
       "  0.6916325688362122,\n",
       "  0.6916177272796631,\n",
       "  0.6916031837463379,\n",
       "  0.6915885806083679,\n",
       "  0.6915740966796875,\n",
       "  0.6915595531463623,\n",
       "  0.6915452480316162,\n",
       "  0.6915309429168701,\n",
       "  0.6915167570114136,\n",
       "  0.6915026307106018,\n",
       "  0.69148850440979,\n",
       "  0.6914746165275574,\n",
       "  0.6914606690406799,\n",
       "  0.691446840763092,\n",
       "  0.6914330720901489,\n",
       "  0.6914193034172058,\n",
       "  0.6914057731628418,\n",
       "  0.6913920640945435,\n",
       "  0.6913785934448242,\n",
       "  0.6913651823997498,\n",
       "  0.6913517713546753,\n",
       "  0.6913386583328247],\n",
       " 'accuracy': [0.3359375,\n",
       "  0.546875,\n",
       "  0.453125,\n",
       "  0.546875,\n",
       "  0.453125,\n",
       "  0.5546875,\n",
       "  0.453125,\n",
       "  0.5234375,\n",
       "  0.453125,\n",
       "  0.546875,\n",
       "  0.546875,\n",
       "  0.546875,\n",
       "  0.546875,\n",
       "  0.546875,\n",
       "  0.546875,\n",
       "  0.546875,\n",
       "  0.546875,\n",
       "  0.546875,\n",
       "  0.546875,\n",
       "  0.546875,\n",
       "  0.546875,\n",
       "  0.546875,\n",
       "  0.546875,\n",
       "  0.546875,\n",
       "  0.546875,\n",
       "  0.546875,\n",
       "  0.546875,\n",
       "  0.546875,\n",
       "  0.546875,\n",
       "  0.546875,\n",
       "  0.546875,\n",
       "  0.546875,\n",
       "  0.546875,\n",
       "  0.546875,\n",
       "  0.546875,\n",
       "  0.546875,\n",
       "  0.546875,\n",
       "  0.546875,\n",
       "  0.546875,\n",
       "  0.546875,\n",
       "  0.546875,\n",
       "  0.546875,\n",
       "  0.546875,\n",
       "  0.546875,\n",
       "  0.546875,\n",
       "  0.546875,\n",
       "  0.546875,\n",
       "  0.546875,\n",
       "  0.546875,\n",
       "  0.546875,\n",
       "  0.546875,\n",
       "  0.546875,\n",
       "  0.546875,\n",
       "  0.546875,\n",
       "  0.546875,\n",
       "  0.546875,\n",
       "  0.546875,\n",
       "  0.546875,\n",
       "  0.546875,\n",
       "  0.546875,\n",
       "  0.546875,\n",
       "  0.546875,\n",
       "  0.546875,\n",
       "  0.546875,\n",
       "  0.546875,\n",
       "  0.546875,\n",
       "  0.546875,\n",
       "  0.546875,\n",
       "  0.546875,\n",
       "  0.546875,\n",
       "  0.546875,\n",
       "  0.546875,\n",
       "  0.546875,\n",
       "  0.546875,\n",
       "  0.546875,\n",
       "  0.546875,\n",
       "  0.546875,\n",
       "  0.546875,\n",
       "  0.546875,\n",
       "  0.546875,\n",
       "  0.546875,\n",
       "  0.546875,\n",
       "  0.546875,\n",
       "  0.546875,\n",
       "  0.546875,\n",
       "  0.546875,\n",
       "  0.546875,\n",
       "  0.546875,\n",
       "  0.546875,\n",
       "  0.546875,\n",
       "  0.546875,\n",
       "  0.546875,\n",
       "  0.546875,\n",
       "  0.546875,\n",
       "  0.546875,\n",
       "  0.546875,\n",
       "  0.546875,\n",
       "  0.546875,\n",
       "  0.546875,\n",
       "  0.546875]}"
      ]
     },
     "execution_count": 76,
     "metadata": {},
     "output_type": "execute_result"
    }
   ],
   "source": [
    "history.history"
   ]
  },
  {
   "cell_type": "code",
   "execution_count": null,
   "metadata": {},
   "outputs": [],
   "source": []
  }
 ],
 "metadata": {
  "kernelspec": {
   "display_name": "Python 3",
   "language": "python",
   "name": "python3"
  },
  "language_info": {
   "codemirror_mode": {
    "name": "ipython",
    "version": 3
   },
   "file_extension": ".py",
   "mimetype": "text/x-python",
   "name": "python",
   "nbconvert_exporter": "python",
   "pygments_lexer": "ipython3",
   "version": "3.7.6"
  }
 },
 "nbformat": 4,
 "nbformat_minor": 4
}
