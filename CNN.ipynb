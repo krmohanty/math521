{
 "cells": [
  {
   "cell_type": "code",
   "execution_count": 151,
   "metadata": {},
   "outputs": [],
   "source": [
    "import scipy as spy\n",
    "import numpy as np\n",
    "import matplotlib.pyplot as plt\n",
    "%matplotlib inline\n",
    "from scipy.io import loadmat\n",
    "import math\n",
    "import pandas as pd\n",
    "from  imageio import imread\n",
    "import joblib"
   ]
  },
  {
   "cell_type": "code",
   "execution_count": 2,
   "metadata": {},
   "outputs": [],
   "source": [
    "import os"
   ]
  },
  {
   "cell_type": "code",
   "execution_count": 3,
   "metadata": {},
   "outputs": [],
   "source": [
    "import cv2"
   ]
  },
  {
   "cell_type": "code",
   "execution_count": 4,
   "metadata": {},
   "outputs": [
    {
     "name": "stderr",
     "output_type": "stream",
     "text": [
      "/home/rappio/anaconda3/lib/python3.7/site-packages/imageio/plugins/_tifffile.py:4275: UserWarning: 999 is not a valid EXTRASAMPLE\n",
      "  warnings.warn(str(e))\n"
     ]
    }
   ],
   "source": [
    "Dog96 = imread('./TIFFtraining/Dog96.tif')"
   ]
  },
  {
   "cell_type": "code",
   "execution_count": 5,
   "metadata": {},
   "outputs": [
    {
     "data": {
      "text/plain": [
       "(64, 64, 2)"
      ]
     },
     "execution_count": 5,
     "metadata": {},
     "output_type": "execute_result"
    }
   ],
   "source": [
    "Dog96.shape"
   ]
  },
  {
   "cell_type": "code",
   "execution_count": 6,
   "metadata": {},
   "outputs": [
    {
     "data": {
      "text/plain": [
       "<matplotlib.image.AxesImage at 0x7f7c864ca090>"
      ]
     },
     "execution_count": 6,
     "metadata": {},
     "output_type": "execute_result"
    },
    {
     "data": {
      "image/png": "[encoded data removed]",
      "text/plain": [
       "<Figure size 432x288 with 1 Axes>"
      ]
     },
     "metadata": {
      "needs_background": "light"
     },
     "output_type": "display_data"
    }
   ],
   "source": [
    "plt.imshow(Dog96[:,:,0],cmap='gray')"
   ]
  },
  {
   "cell_type": "code",
   "execution_count": 7,
   "metadata": {},
   "outputs": [],
   "source": [
    "Dog96=np.array(Dog96[:,:,0])"
   ]
  },
  {
   "cell_type": "code",
   "execution_count": 8,
   "metadata": {},
   "outputs": [],
   "source": [
    "dim = (64, 64)\n",
    "\n",
    "#convert 28x28 grayscale to 48x48 rgb channels\n",
    "def to_rgb(img):\n",
    "    img = cv2.resize(img, dim, interpolation = cv2.INTER_AREA) \n",
    "    img_rgb = np.asarray(np.dstack((img, img, img)), dtype=np.uint8)\n",
    "    return img_rgb"
   ]
  },
  {
   "cell_type": "code",
   "execution_count": 9,
   "metadata": {},
   "outputs": [
    {
     "data": {
      "text/plain": [
       "<matplotlib.image.AxesImage at 0x7f7ca8232350>"
      ]
     },
     "execution_count": 9,
     "metadata": {},
     "output_type": "execute_result"
    },
    {
     "data": {
      "image/png": "[encoded data removed]",
      "text/plain": [
       "<Figure size 432x288 with 1 Axes>"
      ]
     },
     "metadata": {
      "needs_background": "light"
     },
     "output_type": "display_data"
    }
   ],
   "source": [
    "plt.imshow(to_rgb(Dog96))"
   ]
  },
  {
   "cell_type": "code",
   "execution_count": 10,
   "metadata": {},
   "outputs": [],
   "source": [
    "X_list=[]\n",
    "y_list=[]\n",
    "for x in os.listdir(\"./TIFFtraining/\"):\n",
    "    if \"Dog96\" in x:\n",
    "        continue\n",
    "    else:\n",
    "        vec=imread('./TIFFtraining/'+x)\n",
    "        vec=np.array(vec)\n",
    "        vec=to_rgb(vec)\n",
    "        X_list.append(vec)\n",
    "        if \"Cat\" in x:\n",
    "            y_list.append(1)\n",
    "        else:\n",
    "            y_list.append(0)"
   ]
  },
  {
   "cell_type": "code",
   "execution_count": 11,
   "metadata": {},
   "outputs": [
    {
     "data": {
      "text/plain": [
       "159"
      ]
     },
     "execution_count": 11,
     "metadata": {},
     "output_type": "execute_result"
    }
   ],
   "source": [
    "len(X_list)"
   ]
  },
  {
   "cell_type": "code",
   "execution_count": 12,
   "metadata": {},
   "outputs": [
    {
     "data": {
      "text/plain": [
       "159"
      ]
     },
     "execution_count": 12,
     "metadata": {},
     "output_type": "execute_result"
    }
   ],
   "source": [
    "len(y_list)"
   ]
  },
  {
   "cell_type": "code",
   "execution_count": 13,
   "metadata": {},
   "outputs": [],
   "source": [
    "X_list.append(to_rgb(Dog96))"
   ]
  },
  {
   "cell_type": "code",
   "execution_count": 14,
   "metadata": {},
   "outputs": [],
   "source": [
    "y_list.append(0)"
   ]
  },
  {
   "cell_type": "code",
   "execution_count": 15,
   "metadata": {},
   "outputs": [],
   "source": [
    "X=np.array(X_list)"
   ]
  },
  {
   "cell_type": "code",
   "execution_count": 16,
   "metadata": {},
   "outputs": [],
   "source": [
    "#X=X.T"
   ]
  },
  {
   "cell_type": "code",
   "execution_count": 17,
   "metadata": {},
   "outputs": [],
   "source": [
    "y=np.array(y_list)"
   ]
  },
  {
   "cell_type": "code",
   "execution_count": 18,
   "metadata": {},
   "outputs": [],
   "source": [
    "y=y.reshape(160,1)"
   ]
  },
  {
   "cell_type": "code",
   "execution_count": 19,
   "metadata": {},
   "outputs": [
    {
     "data": {
      "text/plain": [
       "(160, 64, 64, 3)"
      ]
     },
     "execution_count": 19,
     "metadata": {},
     "output_type": "execute_result"
    }
   ],
   "source": [
    "X.shape"
   ]
  },
  {
   "cell_type": "code",
   "execution_count": 20,
   "metadata": {},
   "outputs": [
    {
     "data": {
      "text/plain": [
       "(160, 1)"
      ]
     },
     "execution_count": 20,
     "metadata": {},
     "output_type": "execute_result"
    }
   ],
   "source": [
    "y.shape"
   ]
  },
  {
   "cell_type": "code",
   "execution_count": 21,
   "metadata": {},
   "outputs": [
    {
     "data": {
      "text/plain": [
       "<matplotlib.image.AxesImage at 0x7f7c86431b90>"
      ]
     },
     "execution_count": 21,
     "metadata": {},
     "output_type": "execute_result"
    },
    {
     "data": {
      "image/png": "[encoded data removed]",
      "text/plain": [
       "<Figure size 432x288 with 1 Axes>"
      ]
     },
     "metadata": {
      "needs_background": "light"
     },
     "output_type": "display_data"
    }
   ],
   "source": [
    "plt.imshow(X[155])"
   ]
  },
  {
   "cell_type": "code",
   "execution_count": 22,
   "metadata": {},
   "outputs": [
    {
     "data": {
      "text/plain": [
       "array([1])"
      ]
     },
     "execution_count": 22,
     "metadata": {},
     "output_type": "execute_result"
    }
   ],
   "source": [
    "y[155]"
   ]
  },
  {
   "cell_type": "code",
   "execution_count": 23,
   "metadata": {},
   "outputs": [],
   "source": [
    "import tensorflow as tf"
   ]
  },
  {
   "cell_type": "code",
   "execution_count": 24,
   "metadata": {},
   "outputs": [
    {
     "data": {
      "text/plain": [
       "'2.1.0'"
      ]
     },
     "execution_count": 24,
     "metadata": {},
     "output_type": "execute_result"
    }
   ],
   "source": [
    "tf.__version__"
   ]
  },
  {
   "cell_type": "code",
   "execution_count": 25,
   "metadata": {},
   "outputs": [
    {
     "data": {
      "text/plain": [
       "((160, 64, 64, 3), (160, 1))"
      ]
     },
     "execution_count": 25,
     "metadata": {},
     "output_type": "execute_result"
    }
   ],
   "source": [
    "X.shape,y.shape"
   ]
  },
  {
   "cell_type": "code",
   "execution_count": 26,
   "metadata": {},
   "outputs": [],
   "source": [
    "def unison_shuffled_copies(a, b):\n",
    "    assert len(a) == len(b)\n",
    "    p = np.random.permutation(len(a))\n",
    "    return a[p], b[p]"
   ]
  },
  {
   "cell_type": "code",
   "execution_count": 27,
   "metadata": {},
   "outputs": [],
   "source": [
    "X,y=unison_shuffled_copies(X, y)"
   ]
  },
  {
   "cell_type": "code",
   "execution_count": 28,
   "metadata": {},
   "outputs": [
    {
     "name": "stderr",
     "output_type": "stream",
     "text": [
      "Using TensorFlow backend.\n"
     ]
    }
   ],
   "source": [
    "from keras import layers, models, optimizers\n",
    "from keras.applications import VGG16\n",
    "from keras.regularizers import l2\n",
    "\n",
    "\n",
    "conv_base = VGG16(weights='imagenet',\n",
    "                  include_top=False,\n",
    "                  input_shape=(64, 64,3))\n",
    "\n",
    "model = models.Sequential()\n",
    "model.add(conv_base)\n",
    "model.add(layers.Flatten())\n",
    "#model.add(layers.Dropout(0.5))\n",
    "model.add(layers.Dense(64, activation='relu',kernel_regularizer=l2(0.001)))\n",
    "model.add(layers.Dropout(0.5))\n",
    "model.add(layers.Dense(1, activation='sigmoid'))\n",
    "\n",
    "conv_base.trainable = False\n",
    "\n",
    "model.compile(loss='binary_crossentropy',\n",
    "              optimizer=optimizers.RMSprop(lr=2e-5),\n",
    "              metrics=['acc'])"
   ]
  },
  {
   "cell_type": "code",
   "execution_count": 29,
   "metadata": {},
   "outputs": [
    {
     "name": "stdout",
     "output_type": "stream",
     "text": [
      "Model: \"sequential_1\"\n",
      "_________________________________________________________________\n",
      "Layer (type)                 Output Shape              Param #   \n",
      "=================================================================\n",
      "vgg16 (Model)                (None, 2, 2, 512)         14714688  \n",
      "_________________________________________________________________\n",
      "flatten_1 (Flatten)          (None, 2048)              0         \n",
      "_________________________________________________________________\n",
      "dense_1 (Dense)              (None, 64)                131136    \n",
      "_________________________________________________________________\n",
      "dropout_1 (Dropout)          (None, 64)                0         \n",
      "_________________________________________________________________\n",
      "dense_2 (Dense)              (None, 1)                 65        \n",
      "=================================================================\n",
      "Total params: 14,845,889\n",
      "Trainable params: 131,201\n",
      "Non-trainable params: 14,714,688\n",
      "_________________________________________________________________\n"
     ]
    }
   ],
   "source": [
    "model.summary()"
   ]
  },
  {
   "cell_type": "code",
   "execution_count": 30,
   "metadata": {},
   "outputs": [
    {
     "data": {
      "text/plain": [
       "131136"
      ]
     },
     "execution_count": 30,
     "metadata": {},
     "output_type": "execute_result"
    }
   ],
   "source": [
    "2048*64+64"
   ]
  },
  {
   "cell_type": "code",
   "execution_count": 67,
   "metadata": {},
   "outputs": [
    {
     "name": "stdout",
     "output_type": "stream",
     "text": [
      "CPU times: user 5.25 s, sys: 1.03 s, total: 6.28 s\n",
      "Wall time: 22.1 s\n"
     ]
    }
   ],
   "source": [
    "%time history = model.fit(X, y, epochs=100, batch_size=32, validation_data=(X_test, y_test), verbose=0)"
   ]
  },
  {
   "cell_type": "code",
   "execution_count": 68,
   "metadata": {},
   "outputs": [
    {
     "name": "stdout",
     "output_type": "stream",
     "text": [
      "Accuracy: 92.105263\n",
      "CPU times: user 14 ms, sys: 395 µs, total: 14.4 ms\n",
      "Wall time: 49.3 ms\n"
     ]
    }
   ],
   "source": [
    "%%time\n",
    "# evaluate the model\n",
    "loss, accuracy = model.evaluate(X_test, y_test, verbose=0)\n",
    "print('Accuracy: %f' % (accuracy*100))"
   ]
  },
  {
   "cell_type": "code",
   "execution_count": 69,
   "metadata": {},
   "outputs": [],
   "source": [
    "def plot_accuracy_and_loss(history):\n",
    "    acc = history.history['acc']\n",
    "    val_acc = history.history['val_acc']\n",
    "    loss = history.history['loss']\n",
    "    val_loss = history.history['val_loss']\n",
    "\n",
    "    epochs = range(1, len(acc) + 1)\n",
    "\n",
    "    plt.plot(epochs, acc, 'b', label='Training acc')\n",
    "    plt.plot(epochs, val_acc, 'r', label='Validation acc')\n",
    "    plt.title('Training and validation accuracy')\n",
    "    plt.legend()\n",
    "    plt.show()\n",
    "\n",
    "    plt.plot(epochs, loss, 'b', label='Training loss')\n",
    "    plt.plot(epochs, val_loss, 'r', label='Validation loss')\n",
    "    plt.title('Training and validation loss')\n",
    "    plt.legend()\n",
    "    plt.show()"
   ]
  },
  {
   "cell_type": "code",
   "execution_count": 70,
   "metadata": {},
   "outputs": [
    {
     "data": {
      "image/png": "[encoded data removed]",
      "text/plain": [
       "<Figure size 432x288 with 1 Axes>"
      ]
     },
     "metadata": {
      "needs_background": "light"
     },
     "output_type": "display_data"
    },
    {
     "data": {
      "image/png": "[encoded data removed]",
      "text/plain": [
       "<Figure size 432x288 with 1 Axes>"
      ]
     },
     "metadata": {
      "needs_background": "light"
     },
     "output_type": "display_data"
    }
   ],
   "source": [
    "plot_accuracy_and_loss(history)"
   ]
  },
  {
   "cell_type": "code",
   "execution_count": 31,
   "metadata": {},
   "outputs": [],
   "source": [
    "from scipy.io import loadmat"
   ]
  },
  {
   "cell_type": "code",
   "execution_count": 32,
   "metadata": {},
   "outputs": [],
   "source": [
    "test = loadmat('PatternRecAns.mat')"
   ]
  },
  {
   "cell_type": "code",
   "execution_count": 33,
   "metadata": {},
   "outputs": [],
   "source": [
    "y_test=test['hiddenlabels']"
   ]
  },
  {
   "cell_type": "code",
   "execution_count": 34,
   "metadata": {},
   "outputs": [],
   "source": [
    "X_test=test['TestSet']"
   ]
  },
  {
   "cell_type": "code",
   "execution_count": 35,
   "metadata": {},
   "outputs": [],
   "source": [
    "y_test=y_test.reshape(38,1)"
   ]
  },
  {
   "cell_type": "code",
   "execution_count": 36,
   "metadata": {},
   "outputs": [
    {
     "data": {
      "text/plain": [
       "(4096, 38)"
      ]
     },
     "execution_count": 36,
     "metadata": {},
     "output_type": "execute_result"
    }
   ],
   "source": [
    "X_test.shape"
   ]
  },
  {
   "cell_type": "code",
   "execution_count": 37,
   "metadata": {},
   "outputs": [
    {
     "data": {
      "text/plain": [
       "(160, 64, 64, 3)"
      ]
     },
     "execution_count": 37,
     "metadata": {},
     "output_type": "execute_result"
    }
   ],
   "source": [
    "X.shape"
   ]
  },
  {
   "cell_type": "code",
   "execution_count": 38,
   "metadata": {},
   "outputs": [
    {
     "data": {
      "text/plain": [
       "(4096, 38)"
      ]
     },
     "execution_count": 38,
     "metadata": {},
     "output_type": "execute_result"
    }
   ],
   "source": [
    "X_test.shape"
   ]
  },
  {
   "cell_type": "code",
   "execution_count": 39,
   "metadata": {},
   "outputs": [],
   "source": [
    "X_test=X_test.reshape(64,64,38)"
   ]
  },
  {
   "cell_type": "code",
   "execution_count": 40,
   "metadata": {},
   "outputs": [],
   "source": [
    "X_test=X_test.T"
   ]
  },
  {
   "cell_type": "code",
   "execution_count": 41,
   "metadata": {},
   "outputs": [
    {
     "data": {
      "text/plain": [
       "(38, 64, 64)"
      ]
     },
     "execution_count": 41,
     "metadata": {},
     "output_type": "execute_result"
    }
   ],
   "source": [
    "X_test.shape"
   ]
  },
  {
   "cell_type": "code",
   "execution_count": 42,
   "metadata": {},
   "outputs": [
    {
     "data": {
      "text/plain": [
       "(160, 64, 64, 3)"
      ]
     },
     "execution_count": 42,
     "metadata": {},
     "output_type": "execute_result"
    }
   ],
   "source": [
    "X.shape"
   ]
  },
  {
   "cell_type": "code",
   "execution_count": 43,
   "metadata": {},
   "outputs": [],
   "source": [
    "temp=X_test[0,:,:]\n",
    "temp=temp.reshape(64,64,1)"
   ]
  },
  {
   "cell_type": "code",
   "execution_count": 44,
   "metadata": {},
   "outputs": [
    {
     "data": {
      "text/plain": [
       "<matplotlib.image.AxesImage at 0x7f7c2c361f10>"
      ]
     },
     "execution_count": 44,
     "metadata": {},
     "output_type": "execute_result"
    },
    {
     "data": {
      "image/png": "[encoded data removed]",
      "text/plain": [
       "<Figure size 432x288 with 1 Axes>"
      ]
     },
     "metadata": {
      "needs_background": "light"
     },
     "output_type": "display_data"
    }
   ],
   "source": [
    "plt.imshow(temp[:,:,0],cmap='gray')"
   ]
  },
  {
   "cell_type": "code",
   "execution_count": 45,
   "metadata": {},
   "outputs": [],
   "source": [
    "X_test_list=[]\n",
    "for i in range(38):\n",
    "    temp=X_test[i,:,:]\n",
    "    temp=temp.reshape(64,64,1)\n",
    "    temp=to_rgb(temp)  \n",
    "    X_test_list.append(temp)"
   ]
  },
  {
   "cell_type": "code",
   "execution_count": 46,
   "metadata": {},
   "outputs": [],
   "source": [
    "X_test=np.array(X_test_list)"
   ]
  },
  {
   "cell_type": "code",
   "execution_count": 47,
   "metadata": {},
   "outputs": [
    {
     "data": {
      "text/plain": [
       "(38, 64, 64, 3)"
      ]
     },
     "execution_count": 47,
     "metadata": {},
     "output_type": "execute_result"
    }
   ],
   "source": [
    "X_test.shape"
   ]
  },
  {
   "cell_type": "code",
   "execution_count": 48,
   "metadata": {},
   "outputs": [
    {
     "data": {
      "text/plain": [
       "<matplotlib.image.AxesImage at 0x7f7c2c2cced0>"
      ]
     },
     "execution_count": 48,
     "metadata": {},
     "output_type": "execute_result"
    },
    {
     "data": {
      "image/png": "[encoded data removed]",
      "text/plain": [
       "<Figure size 432x288 with 1 Axes>"
      ]
     },
     "metadata": {
      "needs_background": "light"
     },
     "output_type": "display_data"
    }
   ],
   "source": [
    "plt.imshow(X_test[22,:,:,:],cmap='gray')"
   ]
  },
  {
   "cell_type": "code",
   "execution_count": 49,
   "metadata": {},
   "outputs": [
    {
     "data": {
      "text/plain": [
       "array([1], dtype=uint8)"
      ]
     },
     "execution_count": 49,
     "metadata": {},
     "output_type": "execute_result"
    }
   ],
   "source": [
    "y_test[22]"
   ]
  },
  {
   "cell_type": "code",
   "execution_count": 50,
   "metadata": {},
   "outputs": [
    {
     "data": {
      "text/plain": [
       "(38, 1)"
      ]
     },
     "execution_count": 50,
     "metadata": {},
     "output_type": "execute_result"
    }
   ],
   "source": [
    "y_test.shape"
   ]
  },
  {
   "cell_type": "code",
   "execution_count": 117,
   "metadata": {},
   "outputs": [
    {
     "name": "stdout",
     "output_type": "stream",
     "text": [
      "Accuracy: 94.736844\n",
      "CPU times: user 294 ms, sys: 146 ms, total: 440 ms\n",
      "Wall time: 475 ms\n"
     ]
    }
   ],
   "source": [
    "%%time\n",
    "# evaluate the model\n",
    "loss, accuracy = model.evaluate(X_test, y_test, verbose=0)\n",
    "print('Accuracy: %f' % (accuracy*100))"
   ]
  },
  {
   "cell_type": "code",
   "execution_count": 72,
   "metadata": {},
   "outputs": [],
   "source": [
    "from bayes_opt import BayesianOptimization"
   ]
  },
  {
   "cell_type": "code",
   "execution_count": 84,
   "metadata": {},
   "outputs": [],
   "source": [
    "def vgg_cat_dog_grey(l1_units,l1_d,epochs,batch_size,lr):\n",
    "    model = models.Sequential()\n",
    "    model.add(conv_base)\n",
    "    model.add(layers.Flatten())\n",
    "    #model.add(layers.Dropout(0.5))\n",
    "    model.add(layers.Dense(int(l1_units), activation='relu',kernel_regularizer=l2(0.001)))\n",
    "    model.add(layers.Dropout(l1_d))\n",
    "    model.add(layers.Dense(1, activation='sigmoid'))\n",
    "\n",
    "    conv_base.trainable = False\n",
    "\n",
    "    model.compile(loss='binary_crossentropy',\n",
    "              optimizer=optimizers.RMSprop(lr=lr),\n",
    "              metrics=['acc'])\n",
    "\n",
    "    model.fit(X, y, epochs=int(epochs), batch_size=int(batch_size), validation_data=(X_test, y_test), verbose=0)\n",
    "    results = model.evaluate(X_test,y_test)\n",
    "    return results[1]"
   ]
  },
  {
   "cell_type": "code",
   "execution_count": 85,
   "metadata": {},
   "outputs": [
    {
     "name": "stdout",
     "output_type": "stream",
     "text": [
      "38/38 [==============================] - 0s 2ms/step\n"
     ]
    },
    {
     "data": {
      "text/plain": [
       "0.9473684430122375"
      ]
     },
     "execution_count": 85,
     "metadata": {},
     "output_type": "execute_result"
    }
   ],
   "source": [
    "vgg_cat_dog_grey(32.2,0.5,1,32,0.001)"
   ]
  },
  {
   "cell_type": "code",
   "execution_count": 86,
   "metadata": {},
   "outputs": [],
   "source": [
    "catdogBO = BayesianOptimization(vgg_cat_dog_grey,\n",
    "                                 {'l1_units':(16,2048),\n",
    "                                    'l1_d':(0.01,0.99),\n",
    "                                    'epochs':(1,500),\n",
    "                                    'batch_size':(16,160),\n",
    "                                   'lr':(0.00001,0.1)\n",
    "                                  })"
   ]
  },
  {
   "cell_type": "code",
   "execution_count": 87,
   "metadata": {},
   "outputs": [
    {
     "name": "stdout",
     "output_type": "stream",
     "text": [
      "|   iter    |  target   | batch_... |  epochs   |   l1_d    | l1_units  |    lr     |\n",
      "-------------------------------------------------------------------------------------\n",
      "WARNING:tensorflow:Large dropout rate: 0.875682 (>0.5). In TensorFlow 2.x, dropout() uses dropout rate instead of keep_prob. Please ensure that this is intended.\n",
      "38/38 [==============================] - 0s 1ms/step\n",
      "| \u001b[0m 1       \u001b[0m | \u001b[0m 0.9211  \u001b[0m | \u001b[0m 82.06   \u001b[0m | \u001b[0m 306.7   \u001b[0m | \u001b[0m 0.8757  \u001b[0m | \u001b[0m 85.57   \u001b[0m | \u001b[0m 0.02186 \u001b[0m |\n",
      "WARNING:tensorflow:Large dropout rate: 0.615486 (>0.5). In TensorFlow 2.x, dropout() uses dropout rate instead of keep_prob. Please ensure that this is intended.\n",
      "38/38 [==============================] - 0s 1ms/step\n",
      "| \u001b[95m 2       \u001b[0m | \u001b[95m 0.9474  \u001b[0m | \u001b[95m 83.45   \u001b[0m | \u001b[95m 243.1   \u001b[0m | \u001b[95m 0.6155  \u001b[0m | \u001b[95m 1.496e+0\u001b[0m | \u001b[95m 0.05995 \u001b[0m |\n",
      "38/38 [==============================] - 0s 1ms/step\n",
      "| \u001b[0m 3       \u001b[0m | \u001b[0m 0.9211  \u001b[0m | \u001b[0m 74.92   \u001b[0m | \u001b[0m 37.86   \u001b[0m | \u001b[0m 0.07051 \u001b[0m | \u001b[0m 1.724e+0\u001b[0m | \u001b[0m 0.08843 \u001b[0m |\n",
      "WARNING:tensorflow:Large dropout rate: 0.97484 (>0.5). In TensorFlow 2.x, dropout() uses dropout rate instead of keep_prob. Please ensure that this is intended.\n",
      "38/38 [==============================] - 0s 1ms/step\n",
      "| \u001b[95m 4       \u001b[0m | \u001b[95m 0.9737  \u001b[0m | \u001b[95m 83.27   \u001b[0m | \u001b[95m 195.5   \u001b[0m | \u001b[95m 0.9748  \u001b[0m | \u001b[95m 1.013e+0\u001b[0m | \u001b[95m 0.07518 \u001b[0m |\n",
      "38/38 [==============================] - 0s 1ms/step\n",
      "| \u001b[0m 5       \u001b[0m | \u001b[0m 0.9737  \u001b[0m | \u001b[0m 156.2   \u001b[0m | \u001b[0m 498.1   \u001b[0m | \u001b[0m 0.4057  \u001b[0m | \u001b[0m 801.8   \u001b[0m | \u001b[0m 0.09243 \u001b[0m |\n",
      "38/38 [==============================] - 0s 1ms/step\n",
      "| \u001b[0m 6       \u001b[0m | \u001b[0m 0.9737  \u001b[0m | \u001b[0m 68.24   \u001b[0m | \u001b[0m 191.6   \u001b[0m | \u001b[0m 0.01192 \u001b[0m | \u001b[0m 1.015e+0\u001b[0m | \u001b[0m 0.02512 \u001b[0m |\n",
      "WARNING:tensorflow:Large dropout rate: 0.869618 (>0.5). In TensorFlow 2.x, dropout() uses dropout rate instead of keep_prob. Please ensure that this is intended.\n",
      "38/38 [==============================] - 0s 1ms/step\n",
      "| \u001b[0m 7       \u001b[0m | \u001b[0m 0.9474  \u001b[0m | \u001b[0m 16.1    \u001b[0m | \u001b[0m 489.7   \u001b[0m | \u001b[0m 0.8696  \u001b[0m | \u001b[0m 811.8   \u001b[0m | \u001b[0m 0.09125 \u001b[0m |\n",
      "38/38 [==============================] - 0s 1ms/step\n",
      "| \u001b[0m 8       \u001b[0m | \u001b[0m 0.9474  \u001b[0m | \u001b[0m 155.9   \u001b[0m | \u001b[0m 6.354   \u001b[0m | \u001b[0m 0.1461  \u001b[0m | \u001b[0m 551.7   \u001b[0m | \u001b[0m 0.06941 \u001b[0m |\n",
      "WARNING:tensorflow:Large dropout rate: 0.619447 (>0.5). In TensorFlow 2.x, dropout() uses dropout rate instead of keep_prob. Please ensure that this is intended.\n",
      "38/38 [==============================] - 0s 1ms/step\n",
      "| \u001b[0m 9       \u001b[0m | \u001b[0m 0.9737  \u001b[0m | \u001b[0m 158.6   \u001b[0m | \u001b[0m 7.007   \u001b[0m | \u001b[0m 0.6194  \u001b[0m | \u001b[0m 1.128e+0\u001b[0m | \u001b[0m 0.03884 \u001b[0m |\n",
      "38/38 [==============================] - 0s 1ms/step\n",
      "| \u001b[0m 10      \u001b[0m | \u001b[0m 0.9737  \u001b[0m | \u001b[0m 73.0    \u001b[0m | \u001b[0m 205.0   \u001b[0m | \u001b[0m 0.1818  \u001b[0m | \u001b[0m 1.022e+0\u001b[0m | \u001b[0m 0.08236 \u001b[0m |\n",
      "38/38 [==============================] - 0s 1ms/step\n",
      "| \u001b[0m 11      \u001b[0m | \u001b[0m 0.9737  \u001b[0m | \u001b[0m 159.9   \u001b[0m | \u001b[0m 402.5   \u001b[0m | \u001b[0m 0.3987  \u001b[0m | \u001b[0m 1.078e+0\u001b[0m | \u001b[0m 0.01701 \u001b[0m |\n",
      "38/38 [==============================] - 0s 1ms/step\n",
      "| \u001b[0m 12      \u001b[0m | \u001b[0m 0.9737  \u001b[0m | \u001b[0m 159.3   \u001b[0m | \u001b[0m 294.7   \u001b[0m | \u001b[0m 0.3787  \u001b[0m | \u001b[0m 839.3   \u001b[0m | \u001b[0m 0.09328 \u001b[0m |\n",
      "38/38 [==============================] - 0s 1ms/step\n",
      "| \u001b[0m 13      \u001b[0m | \u001b[0m 0.9737  \u001b[0m | \u001b[0m 82.02   \u001b[0m | \u001b[0m 194.2   \u001b[0m | \u001b[0m 0.03485 \u001b[0m | \u001b[0m 1.019e+0\u001b[0m | \u001b[0m 0.003083\u001b[0m |\n",
      "38/38 [==============================] - 0s 1ms/step\n",
      "| \u001b[0m 14      \u001b[0m | \u001b[0m 0.9211  \u001b[0m | \u001b[0m 16.68   \u001b[0m | \u001b[0m 20.54   \u001b[0m | \u001b[0m 0.6954  \u001b[0m | \u001b[0m 1.245e+0\u001b[0m | \u001b[0m 0.04334 \u001b[0m |\n",
      "38/38 [==============================] - 0s 1ms/step\n",
      "| \u001b[0m 15      \u001b[0m | \u001b[0m 0.9474  \u001b[0m | \u001b[0m 144.9   \u001b[0m | \u001b[0m 480.0   \u001b[0m | \u001b[0m 0.3157  \u001b[0m | \u001b[0m 2.047e+0\u001b[0m | \u001b[0m 0.02195 \u001b[0m |\n",
      "38/38 [==============================] - 0s 1ms/step\n",
      "| \u001b[0m 16      \u001b[0m | \u001b[0m 0.8947  \u001b[0m | \u001b[0m 136.6   \u001b[0m | \u001b[0m 495.2   \u001b[0m | \u001b[0m 0.5264  \u001b[0m | \u001b[0m 16.2    \u001b[0m | \u001b[0m 0.04705 \u001b[0m |\n",
      "38/38 [==============================] - 0s 1ms/step\n",
      "| \u001b[0m 17      \u001b[0m | \u001b[0m 0.9737  \u001b[0m | \u001b[0m 154.8   \u001b[0m | \u001b[0m 294.5   \u001b[0m | \u001b[0m 0.844   \u001b[0m | \u001b[0m 844.0   \u001b[0m | \u001b[0m 0.0837  \u001b[0m |\n",
      "38/38 [==============================] - 0s 1ms/step\n",
      "| \u001b[95m 18      \u001b[0m | \u001b[95m 1.0     \u001b[0m | \u001b[95m 47.97   \u001b[0m | \u001b[95m 5.961   \u001b[0m | \u001b[95m 0.3871  \u001b[0m | \u001b[95m 25.63   \u001b[0m | \u001b[95m 0.04721 \u001b[0m |\n",
      "38/38 [==============================] - 0s 1ms/step\n",
      "| \u001b[0m 19      \u001b[0m | \u001b[0m 0.9474  \u001b[0m | \u001b[0m 64.5    \u001b[0m | \u001b[0m 207.4   \u001b[0m | \u001b[0m 0.2148  \u001b[0m | \u001b[0m 1.014e+0\u001b[0m | \u001b[0m 0.05943 \u001b[0m |\n",
      "38/38 [==============================] - 0s 1ms/step\n",
      "| \u001b[0m 20      \u001b[0m | \u001b[0m 0.9474  \u001b[0m | \u001b[0m 16.0    \u001b[0m | \u001b[0m 1.0     \u001b[0m | \u001b[0m 0.99    \u001b[0m | \u001b[0m 2.048e+0\u001b[0m | \u001b[0m 0.1     \u001b[0m |\n",
      "=====================================================================================\n",
      "CPU times: user 3min 48s, sys: 1min 1s, total: 4min 50s\n",
      "Wall time: 16min 30s\n"
     ]
    }
   ],
   "source": [
    "%time catdogBO.maximize(init_points=4,n_iter=16)"
   ]
  },
  {
   "cell_type": "code",
   "execution_count": 92,
   "metadata": {},
   "outputs": [
    {
     "data": {
      "text/plain": [
       "{'batch_size': 47.96894136082377,\n",
       " 'epochs': 5.961407376885448,\n",
       " 'l1_d': 0.387128105339946,\n",
       " 'l1_units': 25.626767937360057,\n",
       " 'lr': 0.04721016249072883}"
      ]
     },
     "execution_count": 92,
     "metadata": {},
     "output_type": "execute_result"
    }
   ],
   "source": [
    "catdogBO.max['params']"
   ]
  },
  {
   "cell_type": "code",
   "execution_count": 93,
   "metadata": {},
   "outputs": [],
   "source": [
    "best_params=catdogBO.max['params']"
   ]
  },
  {
   "cell_type": "code",
   "execution_count": 96,
   "metadata": {},
   "outputs": [
    {
     "name": "stdout",
     "output_type": "stream",
     "text": [
      "38/38 [==============================] - 0s 1ms/step\n"
     ]
    },
    {
     "data": {
      "text/plain": [
       "0.9736841917037964"
      ]
     },
     "execution_count": 96,
     "metadata": {},
     "output_type": "execute_result"
    }
   ],
   "source": [
    "vgg_cat_dog_grey(best_params['l1_units'],best_params['l1_d'],best_params['epochs'],best_params['batch_size'],best_params['lr'])"
   ]
  },
  {
   "cell_type": "code",
   "execution_count": 98,
   "metadata": {},
   "outputs": [],
   "source": [
    "def vgg_cat_dog_grey_m_h(l1_units,l1_d,epochs,batch_size,lr):\n",
    "    model = models.Sequential()\n",
    "    model.add(conv_base)\n",
    "    model.add(layers.Flatten())\n",
    "    model.add(layers.Dense(int(l1_units), activation='relu',kernel_regularizer=l2(0.001)))\n",
    "    model.add(layers.Dropout(l1_d))\n",
    "    model.add(layers.Dense(1, activation='sigmoid'))\n",
    "\n",
    "    conv_base.trainable = False\n",
    "\n",
    "    model.compile(loss='binary_crossentropy',\n",
    "              optimizer=optimizers.RMSprop(lr=lr),\n",
    "              metrics=['acc'])\n",
    "\n",
    "    history=model.fit(X, y, epochs=int(epochs), batch_size=int(batch_size), validation_data=(X_test, y_test), verbose=0)\n",
    "    results = model.evaluate(X_test,y_test)\n",
    "    return results,model,history"
   ]
  },
  {
   "cell_type": "code",
   "execution_count": 133,
   "metadata": {},
   "outputs": [
    {
     "name": "stdout",
     "output_type": "stream",
     "text": [
      "38/38 [==============================] - 0s 1ms/step\n"
     ]
    }
   ],
   "source": [
    "results,model,history=vgg_cat_dog_grey_m_h(best_params['l1_units'],best_params['l1_d'],best_params['epochs'],best_params['batch_size'],best_params['lr'])"
   ]
  },
  {
   "cell_type": "code",
   "execution_count": 143,
   "metadata": {},
   "outputs": [
    {
     "name": "stdout",
     "output_type": "stream",
     "text": [
      "Model: \"sequential_32\"\n",
      "_________________________________________________________________\n",
      "Layer (type)                 Output Shape              Param #   \n",
      "=================================================================\n",
      "vgg16 (Model)                (None, 2, 2, 512)         14714688  \n",
      "_________________________________________________________________\n",
      "flatten_32 (Flatten)         (None, 2048)              0         \n",
      "_________________________________________________________________\n",
      "dense_62 (Dense)             (None, 25)                51225     \n",
      "_________________________________________________________________\n",
      "dropout_31 (Dropout)         (None, 25)                0         \n",
      "_________________________________________________________________\n",
      "dense_63 (Dense)             (None, 1)                 26        \n",
      "=================================================================\n",
      "Total params: 14,765,939\n",
      "Trainable params: 51,251\n",
      "Non-trainable params: 14,714,688\n",
      "_________________________________________________________________\n"
     ]
    }
   ],
   "source": [
    "model.summary()"
   ]
  },
  {
   "cell_type": "code",
   "execution_count": 134,
   "metadata": {},
   "outputs": [
    {
     "data": {
      "text/plain": [
       "[0.8561615849796095, 1.0]"
      ]
     },
     "execution_count": 134,
     "metadata": {},
     "output_type": "execute_result"
    }
   ],
   "source": [
    "results"
   ]
  },
  {
   "cell_type": "code",
   "execution_count": 135,
   "metadata": {},
   "outputs": [
    {
     "data": {
      "image/png": "[encoded data removed]",
      "text/plain": [
       "<Figure size 432x288 with 1 Axes>"
      ]
     },
     "metadata": {
      "needs_background": "light"
     },
     "output_type": "display_data"
    },
    {
     "data": {
      "image/png": "[encoded data removed]",
      "text/plain": [
       "<Figure size 432x288 with 1 Axes>"
      ]
     },
     "metadata": {
      "needs_background": "light"
     },
     "output_type": "display_data"
    }
   ],
   "source": [
    "plot_accuracy_and_loss(history)"
   ]
  },
  {
   "cell_type": "code",
   "execution_count": 136,
   "metadata": {},
   "outputs": [
    {
     "data": {
      "text/plain": [
       "(38, 64, 64, 3)"
      ]
     },
     "execution_count": 136,
     "metadata": {},
     "output_type": "execute_result"
    }
   ],
   "source": [
    "X_test.shape"
   ]
  },
  {
   "cell_type": "code",
   "execution_count": 144,
   "metadata": {},
   "outputs": [],
   "source": [
    "res=pd.DataFrame([y_test.reshape(38,),np.round(model.predict(X_test).reshape(38,),6)])"
   ]
  },
  {
   "cell_type": "code",
   "execution_count": 145,
   "metadata": {},
   "outputs": [],
   "source": [
    "res=res.T"
   ]
  },
  {
   "cell_type": "code",
   "execution_count": 146,
   "metadata": {},
   "outputs": [],
   "source": [
    "res.columns=['actual','predicted']"
   ]
  },
  {
   "cell_type": "code",
   "execution_count": 147,
   "metadata": {},
   "outputs": [
    {
     "data": {
      "text/html": [
       "<div>\n",
       "<style scoped>\n",
       "    .dataframe tbody tr th:only-of-type {\n",
       "        vertical-align: middle;\n",
       "    }\n",
       "\n",
       "    .dataframe tbody tr th {\n",
       "        vertical-align: top;\n",
       "    }\n",
       "\n",
       "    .dataframe thead th {\n",
       "        text-align: right;\n",
       "    }\n",
       "</style>\n",
       "<table border=\"1\" class=\"dataframe\">\n",
       "  <thead>\n",
       "    <tr style=\"text-align: right;\">\n",
       "      <th></th>\n",
       "      <th>actual</th>\n",
       "      <th>predicted</th>\n",
       "    </tr>\n",
       "  </thead>\n",
       "  <tbody>\n",
       "    <tr>\n",
       "      <th>0</th>\n",
       "      <td>0.0</td>\n",
       "      <td>0.000000</td>\n",
       "    </tr>\n",
       "    <tr>\n",
       "      <th>1</th>\n",
       "      <td>1.0</td>\n",
       "      <td>1.000000</td>\n",
       "    </tr>\n",
       "    <tr>\n",
       "      <th>2</th>\n",
       "      <td>0.0</td>\n",
       "      <td>0.000000</td>\n",
       "    </tr>\n",
       "    <tr>\n",
       "      <th>3</th>\n",
       "      <td>1.0</td>\n",
       "      <td>1.000000</td>\n",
       "    </tr>\n",
       "    <tr>\n",
       "      <th>4</th>\n",
       "      <td>1.0</td>\n",
       "      <td>1.000000</td>\n",
       "    </tr>\n",
       "    <tr>\n",
       "      <th>5</th>\n",
       "      <td>1.0</td>\n",
       "      <td>1.000000</td>\n",
       "    </tr>\n",
       "    <tr>\n",
       "      <th>6</th>\n",
       "      <td>1.0</td>\n",
       "      <td>1.000000</td>\n",
       "    </tr>\n",
       "    <tr>\n",
       "      <th>7</th>\n",
       "      <td>1.0</td>\n",
       "      <td>1.000000</td>\n",
       "    </tr>\n",
       "    <tr>\n",
       "      <th>8</th>\n",
       "      <td>0.0</td>\n",
       "      <td>0.000000</td>\n",
       "    </tr>\n",
       "    <tr>\n",
       "      <th>9</th>\n",
       "      <td>1.0</td>\n",
       "      <td>1.000000</td>\n",
       "    </tr>\n",
       "    <tr>\n",
       "      <th>10</th>\n",
       "      <td>0.0</td>\n",
       "      <td>0.000000</td>\n",
       "    </tr>\n",
       "    <tr>\n",
       "      <th>11</th>\n",
       "      <td>0.0</td>\n",
       "      <td>0.000000</td>\n",
       "    </tr>\n",
       "    <tr>\n",
       "      <th>12</th>\n",
       "      <td>1.0</td>\n",
       "      <td>1.000000</td>\n",
       "    </tr>\n",
       "    <tr>\n",
       "      <th>13</th>\n",
       "      <td>1.0</td>\n",
       "      <td>1.000000</td>\n",
       "    </tr>\n",
       "    <tr>\n",
       "      <th>14</th>\n",
       "      <td>0.0</td>\n",
       "      <td>0.000000</td>\n",
       "    </tr>\n",
       "    <tr>\n",
       "      <th>15</th>\n",
       "      <td>0.0</td>\n",
       "      <td>0.000000</td>\n",
       "    </tr>\n",
       "    <tr>\n",
       "      <th>16</th>\n",
       "      <td>0.0</td>\n",
       "      <td>0.000000</td>\n",
       "    </tr>\n",
       "    <tr>\n",
       "      <th>17</th>\n",
       "      <td>0.0</td>\n",
       "      <td>0.000000</td>\n",
       "    </tr>\n",
       "    <tr>\n",
       "      <th>18</th>\n",
       "      <td>0.0</td>\n",
       "      <td>0.000000</td>\n",
       "    </tr>\n",
       "    <tr>\n",
       "      <th>19</th>\n",
       "      <td>0.0</td>\n",
       "      <td>0.000000</td>\n",
       "    </tr>\n",
       "    <tr>\n",
       "      <th>20</th>\n",
       "      <td>1.0</td>\n",
       "      <td>1.000000</td>\n",
       "    </tr>\n",
       "    <tr>\n",
       "      <th>21</th>\n",
       "      <td>0.0</td>\n",
       "      <td>0.000000</td>\n",
       "    </tr>\n",
       "    <tr>\n",
       "      <th>22</th>\n",
       "      <td>1.0</td>\n",
       "      <td>1.000000</td>\n",
       "    </tr>\n",
       "    <tr>\n",
       "      <th>23</th>\n",
       "      <td>0.0</td>\n",
       "      <td>0.000000</td>\n",
       "    </tr>\n",
       "    <tr>\n",
       "      <th>24</th>\n",
       "      <td>0.0</td>\n",
       "      <td>0.000000</td>\n",
       "    </tr>\n",
       "    <tr>\n",
       "      <th>25</th>\n",
       "      <td>0.0</td>\n",
       "      <td>0.000000</td>\n",
       "    </tr>\n",
       "    <tr>\n",
       "      <th>26</th>\n",
       "      <td>1.0</td>\n",
       "      <td>1.000000</td>\n",
       "    </tr>\n",
       "    <tr>\n",
       "      <th>27</th>\n",
       "      <td>1.0</td>\n",
       "      <td>0.999999</td>\n",
       "    </tr>\n",
       "    <tr>\n",
       "      <th>28</th>\n",
       "      <td>0.0</td>\n",
       "      <td>0.000000</td>\n",
       "    </tr>\n",
       "    <tr>\n",
       "      <th>29</th>\n",
       "      <td>1.0</td>\n",
       "      <td>1.000000</td>\n",
       "    </tr>\n",
       "    <tr>\n",
       "      <th>30</th>\n",
       "      <td>0.0</td>\n",
       "      <td>0.000000</td>\n",
       "    </tr>\n",
       "    <tr>\n",
       "      <th>31</th>\n",
       "      <td>0.0</td>\n",
       "      <td>0.000000</td>\n",
       "    </tr>\n",
       "    <tr>\n",
       "      <th>32</th>\n",
       "      <td>1.0</td>\n",
       "      <td>1.000000</td>\n",
       "    </tr>\n",
       "    <tr>\n",
       "      <th>33</th>\n",
       "      <td>1.0</td>\n",
       "      <td>1.000000</td>\n",
       "    </tr>\n",
       "    <tr>\n",
       "      <th>34</th>\n",
       "      <td>1.0</td>\n",
       "      <td>1.000000</td>\n",
       "    </tr>\n",
       "    <tr>\n",
       "      <th>35</th>\n",
       "      <td>1.0</td>\n",
       "      <td>1.000000</td>\n",
       "    </tr>\n",
       "    <tr>\n",
       "      <th>36</th>\n",
       "      <td>0.0</td>\n",
       "      <td>0.000000</td>\n",
       "    </tr>\n",
       "    <tr>\n",
       "      <th>37</th>\n",
       "      <td>1.0</td>\n",
       "      <td>1.000000</td>\n",
       "    </tr>\n",
       "  </tbody>\n",
       "</table>\n",
       "</div>"
      ],
      "text/plain": [
       "    actual  predicted\n",
       "0      0.0   0.000000\n",
       "1      1.0   1.000000\n",
       "2      0.0   0.000000\n",
       "3      1.0   1.000000\n",
       "4      1.0   1.000000\n",
       "5      1.0   1.000000\n",
       "6      1.0   1.000000\n",
       "7      1.0   1.000000\n",
       "8      0.0   0.000000\n",
       "9      1.0   1.000000\n",
       "10     0.0   0.000000\n",
       "11     0.0   0.000000\n",
       "12     1.0   1.000000\n",
       "13     1.0   1.000000\n",
       "14     0.0   0.000000\n",
       "15     0.0   0.000000\n",
       "16     0.0   0.000000\n",
       "17     0.0   0.000000\n",
       "18     0.0   0.000000\n",
       "19     0.0   0.000000\n",
       "20     1.0   1.000000\n",
       "21     0.0   0.000000\n",
       "22     1.0   1.000000\n",
       "23     0.0   0.000000\n",
       "24     0.0   0.000000\n",
       "25     0.0   0.000000\n",
       "26     1.0   1.000000\n",
       "27     1.0   0.999999\n",
       "28     0.0   0.000000\n",
       "29     1.0   1.000000\n",
       "30     0.0   0.000000\n",
       "31     0.0   0.000000\n",
       "32     1.0   1.000000\n",
       "33     1.0   1.000000\n",
       "34     1.0   1.000000\n",
       "35     1.0   1.000000\n",
       "36     0.0   0.000000\n",
       "37     1.0   1.000000"
      ]
     },
     "execution_count": 147,
     "metadata": {},
     "output_type": "execute_result"
    }
   ],
   "source": [
    "res"
   ]
  },
  {
   "cell_type": "code",
   "execution_count": 140,
   "metadata": {},
   "outputs": [
    {
     "data": {
      "text/html": [
       "<div>\n",
       "<style scoped>\n",
       "    .dataframe tbody tr th:only-of-type {\n",
       "        vertical-align: middle;\n",
       "    }\n",
       "\n",
       "    .dataframe tbody tr th {\n",
       "        vertical-align: top;\n",
       "    }\n",
       "\n",
       "    .dataframe thead th {\n",
       "        text-align: right;\n",
       "    }\n",
       "</style>\n",
       "<table border=\"1\" class=\"dataframe\">\n",
       "  <thead>\n",
       "    <tr style=\"text-align: right;\">\n",
       "      <th></th>\n",
       "      <th>actual</th>\n",
       "      <th>predicted</th>\n",
       "    </tr>\n",
       "  </thead>\n",
       "  <tbody>\n",
       "  </tbody>\n",
       "</table>\n",
       "</div>"
      ],
      "text/plain": [
       "Empty DataFrame\n",
       "Columns: [actual, predicted]\n",
       "Index: []"
      ]
     },
     "execution_count": 140,
     "metadata": {},
     "output_type": "execute_result"
    }
   ],
   "source": [
    "res[(res.predicted>0.1)&(res.predicted<0.9)]"
   ]
  },
  {
   "cell_type": "code",
   "execution_count": 141,
   "metadata": {},
   "outputs": [],
   "source": [
    "for i in list(res[(res.predicted>0.1)&(res.predicted<0.9)].index):\n",
    "    plt.imshow(X_test[i,:,:,:],cmap='gray')\n",
    "    plt.show()"
   ]
  },
  {
   "cell_type": "code",
   "execution_count": 148,
   "metadata": {},
   "outputs": [],
   "source": [
    "model.save('best_cat_dog_model.h5')"
   ]
  },
  {
   "cell_type": "code",
   "execution_count": 149,
   "metadata": {},
   "outputs": [
    {
     "data": {
      "text/plain": [
       "keras.callbacks.callbacks.History"
      ]
     },
     "execution_count": 149,
     "metadata": {},
     "output_type": "execute_result"
    }
   ],
   "source": [
    "type(history)"
   ]
  },
  {
   "cell_type": "code",
   "execution_count": 152,
   "metadata": {},
   "outputs": [
    {
     "data": {
      "text/plain": [
       "['history_best_model.pkl']"
      ]
     },
     "execution_count": 152,
     "metadata": {},
     "output_type": "execute_result"
    }
   ],
   "source": [
    "joblib.dump(history,'history_best_model.pkl')"
   ]
  },
  {
   "cell_type": "code",
   "execution_count": null,
   "metadata": {},
   "outputs": [],
   "source": []
  }
 ],
 "metadata": {
  "kernelspec": {
   "display_name": "Python 3",
   "language": "python",
   "name": "python3"
  },
  "language_info": {
   "codemirror_mode": {
    "name": "ipython",
    "version": 3
   },
   "file_extension": ".py",
   "mimetype": "text/x-python",
   "name": "python",
   "nbconvert_exporter": "python",
   "pygments_lexer": "ipython3",
   "version": "3.7.6"
  }
 },
 "nbformat": 4,
 "nbformat_minor": 4
}
